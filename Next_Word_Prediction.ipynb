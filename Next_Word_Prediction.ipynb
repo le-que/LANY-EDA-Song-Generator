{
  "nbformat": 4,
  "nbformat_minor": 0,
  "metadata": {
    "colab": {
      "provenance": []
    },
    "kernelspec": {
      "name": "python3",
      "display_name": "Python 3"
    },
    "language_info": {
      "name": "python"
    }
  },
  "cells": [
    {
      "cell_type": "code",
      "execution_count": 28,
      "metadata": {
        "id": "3grkt9V1pFa0"
      },
      "outputs": [],
      "source": [
        "import tensorflow as tf\n",
        "from tensorflow.keras.models import Sequential\n",
        "from tensorflow.keras.layers import Embedding, LSTM, Dense\n",
        "from tensorflow.keras.preprocessing.text import Tokenizer\n",
        "from tensorflow.keras.preprocessing.sequence import pad_sequences\n",
        "from tensorflow.keras.optimizers import Adam\n",
        "import numpy as np\n",
        "import regex as re\n",
        "import pandas as pd"
      ]
    },
    {
      "cell_type": "code",
      "source": [
        "songs = pd.read_csv('/content/lany.csv')\n",
        "songs.head()\n"
      ],
      "metadata": {
        "id": "5msbANqDpRWc",
        "colab": {
          "base_uri": "https://localhost:8080/",
          "height": 206
        },
        "outputId": "8db7518f-7790-45a8-b22f-48eb12f9fc2b"
      },
      "execution_count": 30,
      "outputs": [
        {
          "output_type": "execute_result",
          "data": {
            "text/plain": [
              "             Song                                             Lyrics\n",
              "0   Malibu Nights  There's no reason, there's no rhyme I found my...\n",
              "1            \"13\"  It could change but this feels like, like the ...\n",
              "2            LYSB  Ain't never felt this way Can't get enough so ...\n",
              "3  Thick And Thin  Late night Your eyes fell to the floor I'm try...\n",
              "4         Mean It  Small talk, no conversation That look makes me..."
            ],
            "text/html": [
              "\n",
              "  <div id=\"df-957fd2e6-4d36-46d4-8f68-4779797b597e\" class=\"colab-df-container\">\n",
              "    <div>\n",
              "<style scoped>\n",
              "    .dataframe tbody tr th:only-of-type {\n",
              "        vertical-align: middle;\n",
              "    }\n",
              "\n",
              "    .dataframe tbody tr th {\n",
              "        vertical-align: top;\n",
              "    }\n",
              "\n",
              "    .dataframe thead th {\n",
              "        text-align: right;\n",
              "    }\n",
              "</style>\n",
              "<table border=\"1\" class=\"dataframe\">\n",
              "  <thead>\n",
              "    <tr style=\"text-align: right;\">\n",
              "      <th></th>\n",
              "      <th>Song</th>\n",
              "      <th>Lyrics</th>\n",
              "    </tr>\n",
              "  </thead>\n",
              "  <tbody>\n",
              "    <tr>\n",
              "      <th>0</th>\n",
              "      <td>Malibu Nights</td>\n",
              "      <td>There's no reason, there's no rhyme I found my...</td>\n",
              "    </tr>\n",
              "    <tr>\n",
              "      <th>1</th>\n",
              "      <td>\"13\"</td>\n",
              "      <td>It could change but this feels like, like the ...</td>\n",
              "    </tr>\n",
              "    <tr>\n",
              "      <th>2</th>\n",
              "      <td>LYSB</td>\n",
              "      <td>Ain't never felt this way Can't get enough so ...</td>\n",
              "    </tr>\n",
              "    <tr>\n",
              "      <th>3</th>\n",
              "      <td>Thick And Thin</td>\n",
              "      <td>Late night Your eyes fell to the floor I'm try...</td>\n",
              "    </tr>\n",
              "    <tr>\n",
              "      <th>4</th>\n",
              "      <td>Mean It</td>\n",
              "      <td>Small talk, no conversation That look makes me...</td>\n",
              "    </tr>\n",
              "  </tbody>\n",
              "</table>\n",
              "</div>\n",
              "    <div class=\"colab-df-buttons\">\n",
              "\n",
              "  <div class=\"colab-df-container\">\n",
              "    <button class=\"colab-df-convert\" onclick=\"convertToInteractive('df-957fd2e6-4d36-46d4-8f68-4779797b597e')\"\n",
              "            title=\"Convert this dataframe to an interactive table.\"\n",
              "            style=\"display:none;\">\n",
              "\n",
              "  <svg xmlns=\"http://www.w3.org/2000/svg\" height=\"24px\" viewBox=\"0 -960 960 960\">\n",
              "    <path d=\"M120-120v-720h720v720H120Zm60-500h600v-160H180v160Zm220 220h160v-160H400v160Zm0 220h160v-160H400v160ZM180-400h160v-160H180v160Zm440 0h160v-160H620v160ZM180-180h160v-160H180v160Zm440 0h160v-160H620v160Z\"/>\n",
              "  </svg>\n",
              "    </button>\n",
              "\n",
              "  <style>\n",
              "    .colab-df-container {\n",
              "      display:flex;\n",
              "      gap: 12px;\n",
              "    }\n",
              "\n",
              "    .colab-df-convert {\n",
              "      background-color: #E8F0FE;\n",
              "      border: none;\n",
              "      border-radius: 50%;\n",
              "      cursor: pointer;\n",
              "      display: none;\n",
              "      fill: #1967D2;\n",
              "      height: 32px;\n",
              "      padding: 0 0 0 0;\n",
              "      width: 32px;\n",
              "    }\n",
              "\n",
              "    .colab-df-convert:hover {\n",
              "      background-color: #E2EBFA;\n",
              "      box-shadow: 0px 1px 2px rgba(60, 64, 67, 0.3), 0px 1px 3px 1px rgba(60, 64, 67, 0.15);\n",
              "      fill: #174EA6;\n",
              "    }\n",
              "\n",
              "    .colab-df-buttons div {\n",
              "      margin-bottom: 4px;\n",
              "    }\n",
              "\n",
              "    [theme=dark] .colab-df-convert {\n",
              "      background-color: #3B4455;\n",
              "      fill: #D2E3FC;\n",
              "    }\n",
              "\n",
              "    [theme=dark] .colab-df-convert:hover {\n",
              "      background-color: #434B5C;\n",
              "      box-shadow: 0px 1px 3px 1px rgba(0, 0, 0, 0.15);\n",
              "      filter: drop-shadow(0px 1px 2px rgba(0, 0, 0, 0.3));\n",
              "      fill: #FFFFFF;\n",
              "    }\n",
              "  </style>\n",
              "\n",
              "    <script>\n",
              "      const buttonEl =\n",
              "        document.querySelector('#df-957fd2e6-4d36-46d4-8f68-4779797b597e button.colab-df-convert');\n",
              "      buttonEl.style.display =\n",
              "        google.colab.kernel.accessAllowed ? 'block' : 'none';\n",
              "\n",
              "      async function convertToInteractive(key) {\n",
              "        const element = document.querySelector('#df-957fd2e6-4d36-46d4-8f68-4779797b597e');\n",
              "        const dataTable =\n",
              "          await google.colab.kernel.invokeFunction('convertToInteractive',\n",
              "                                                    [key], {});\n",
              "        if (!dataTable) return;\n",
              "\n",
              "        const docLinkHtml = 'Like what you see? Visit the ' +\n",
              "          '<a target=\"_blank\" href=https://colab.research.google.com/notebooks/data_table.ipynb>data table notebook</a>'\n",
              "          + ' to learn more about interactive tables.';\n",
              "        element.innerHTML = '';\n",
              "        dataTable['output_type'] = 'display_data';\n",
              "        await google.colab.output.renderOutput(dataTable, element);\n",
              "        const docLink = document.createElement('div');\n",
              "        docLink.innerHTML = docLinkHtml;\n",
              "        element.appendChild(docLink);\n",
              "      }\n",
              "    </script>\n",
              "  </div>\n",
              "\n",
              "\n",
              "<div id=\"df-2cb4b823-f128-4ad4-a1b6-bf6cc0c969c4\">\n",
              "  <button class=\"colab-df-quickchart\" onclick=\"quickchart('df-2cb4b823-f128-4ad4-a1b6-bf6cc0c969c4')\"\n",
              "            title=\"Suggest charts\"\n",
              "            style=\"display:none;\">\n",
              "\n",
              "<svg xmlns=\"http://www.w3.org/2000/svg\" height=\"24px\"viewBox=\"0 0 24 24\"\n",
              "     width=\"24px\">\n",
              "    <g>\n",
              "        <path d=\"M19 3H5c-1.1 0-2 .9-2 2v14c0 1.1.9 2 2 2h14c1.1 0 2-.9 2-2V5c0-1.1-.9-2-2-2zM9 17H7v-7h2v7zm4 0h-2V7h2v10zm4 0h-2v-4h2v4z\"/>\n",
              "    </g>\n",
              "</svg>\n",
              "  </button>\n",
              "\n",
              "<style>\n",
              "  .colab-df-quickchart {\n",
              "      --bg-color: #E8F0FE;\n",
              "      --fill-color: #1967D2;\n",
              "      --hover-bg-color: #E2EBFA;\n",
              "      --hover-fill-color: #174EA6;\n",
              "      --disabled-fill-color: #AAA;\n",
              "      --disabled-bg-color: #DDD;\n",
              "  }\n",
              "\n",
              "  [theme=dark] .colab-df-quickchart {\n",
              "      --bg-color: #3B4455;\n",
              "      --fill-color: #D2E3FC;\n",
              "      --hover-bg-color: #434B5C;\n",
              "      --hover-fill-color: #FFFFFF;\n",
              "      --disabled-bg-color: #3B4455;\n",
              "      --disabled-fill-color: #666;\n",
              "  }\n",
              "\n",
              "  .colab-df-quickchart {\n",
              "    background-color: var(--bg-color);\n",
              "    border: none;\n",
              "    border-radius: 50%;\n",
              "    cursor: pointer;\n",
              "    display: none;\n",
              "    fill: var(--fill-color);\n",
              "    height: 32px;\n",
              "    padding: 0;\n",
              "    width: 32px;\n",
              "  }\n",
              "\n",
              "  .colab-df-quickchart:hover {\n",
              "    background-color: var(--hover-bg-color);\n",
              "    box-shadow: 0 1px 2px rgba(60, 64, 67, 0.3), 0 1px 3px 1px rgba(60, 64, 67, 0.15);\n",
              "    fill: var(--button-hover-fill-color);\n",
              "  }\n",
              "\n",
              "  .colab-df-quickchart-complete:disabled,\n",
              "  .colab-df-quickchart-complete:disabled:hover {\n",
              "    background-color: var(--disabled-bg-color);\n",
              "    fill: var(--disabled-fill-color);\n",
              "    box-shadow: none;\n",
              "  }\n",
              "\n",
              "  .colab-df-spinner {\n",
              "    border: 2px solid var(--fill-color);\n",
              "    border-color: transparent;\n",
              "    border-bottom-color: var(--fill-color);\n",
              "    animation:\n",
              "      spin 1s steps(1) infinite;\n",
              "  }\n",
              "\n",
              "  @keyframes spin {\n",
              "    0% {\n",
              "      border-color: transparent;\n",
              "      border-bottom-color: var(--fill-color);\n",
              "      border-left-color: var(--fill-color);\n",
              "    }\n",
              "    20% {\n",
              "      border-color: transparent;\n",
              "      border-left-color: var(--fill-color);\n",
              "      border-top-color: var(--fill-color);\n",
              "    }\n",
              "    30% {\n",
              "      border-color: transparent;\n",
              "      border-left-color: var(--fill-color);\n",
              "      border-top-color: var(--fill-color);\n",
              "      border-right-color: var(--fill-color);\n",
              "    }\n",
              "    40% {\n",
              "      border-color: transparent;\n",
              "      border-right-color: var(--fill-color);\n",
              "      border-top-color: var(--fill-color);\n",
              "    }\n",
              "    60% {\n",
              "      border-color: transparent;\n",
              "      border-right-color: var(--fill-color);\n",
              "    }\n",
              "    80% {\n",
              "      border-color: transparent;\n",
              "      border-right-color: var(--fill-color);\n",
              "      border-bottom-color: var(--fill-color);\n",
              "    }\n",
              "    90% {\n",
              "      border-color: transparent;\n",
              "      border-bottom-color: var(--fill-color);\n",
              "    }\n",
              "  }\n",
              "</style>\n",
              "\n",
              "  <script>\n",
              "    async function quickchart(key) {\n",
              "      const quickchartButtonEl =\n",
              "        document.querySelector('#' + key + ' button');\n",
              "      quickchartButtonEl.disabled = true;  // To prevent multiple clicks.\n",
              "      quickchartButtonEl.classList.add('colab-df-spinner');\n",
              "      try {\n",
              "        const charts = await google.colab.kernel.invokeFunction(\n",
              "            'suggestCharts', [key], {});\n",
              "      } catch (error) {\n",
              "        console.error('Error during call to suggestCharts:', error);\n",
              "      }\n",
              "      quickchartButtonEl.classList.remove('colab-df-spinner');\n",
              "      quickchartButtonEl.classList.add('colab-df-quickchart-complete');\n",
              "    }\n",
              "    (() => {\n",
              "      let quickchartButtonEl =\n",
              "        document.querySelector('#df-2cb4b823-f128-4ad4-a1b6-bf6cc0c969c4 button');\n",
              "      quickchartButtonEl.style.display =\n",
              "        google.colab.kernel.accessAllowed ? 'block' : 'none';\n",
              "    })();\n",
              "  </script>\n",
              "</div>\n",
              "\n",
              "    </div>\n",
              "  </div>\n"
            ]
          },
          "metadata": {},
          "execution_count": 30
        }
      ]
    },
    {
      "cell_type": "code",
      "source": [
        "print(\"Number of records: \", songs.shape[0])\n",
        "print(\"Number of fields: \", songs.shape[1])"
      ],
      "metadata": {
        "colab": {
          "base_uri": "https://localhost:8080/"
        },
        "id": "94l1_bBiQApu",
        "outputId": "d5c41421-ead1-43dc-c3bf-17c59be6afa6"
      },
      "execution_count": 31,
      "outputs": [
        {
          "output_type": "stream",
          "name": "stdout",
          "text": [
            "Number of records:  9\n",
            "Number of fields:  2\n"
          ]
        }
      ]
    },
    {
      "cell_type": "code",
      "source": [
        "songs['Lyrics']"
      ],
      "metadata": {
        "colab": {
          "base_uri": "https://localhost:8080/"
        },
        "id": "6h0mmAOIQIKN",
        "outputId": "b39ba821-bfb6-4f72-cefe-f128933c4ccb"
      },
      "execution_count": 32,
      "outputs": [
        {
          "output_type": "execute_result",
          "data": {
            "text/plain": [
              "0    There's no reason, there's no rhyme I found my...\n",
              "1    It could change but this feels like, like the ...\n",
              "2    Ain't never felt this way Can't get enough so ...\n",
              "3    Late night Your eyes fell to the floor I'm try...\n",
              "4    Small talk, no conversation That look makes me...\n",
              "5    I'm falling out of love with you LA Running ou...\n",
              "6    Thrift store fashion imperfect tattoos Taking ...\n",
              "7    My reputation says that I fall too fast They t...\n",
              "8    Chasing a heart is like chasing a ghost You ca...\n",
              "Name: Lyrics, dtype: object"
            ]
          },
          "metadata": {},
          "execution_count": 32
        }
      ]
    },
    {
      "cell_type": "code",
      "source": [
        "songs['Lyrics'] = songs['Lyrics'].apply(lambda x: x.replace(u'\\xa0',u' '))\n",
        "songs['Lyrics'] = songs['Lyrics'].apply(lambda x: x.replace('\\u200a',' '))"
      ],
      "metadata": {
        "id": "CpAzJGc3I2fQ"
      },
      "execution_count": 33,
      "outputs": []
    },
    {
      "cell_type": "code",
      "source": [
        "tokenizer = Tokenizer()\n",
        "tokenizer.fit_on_texts(songs['Lyrics'])\n",
        "total_words = len(tokenizer.word_index) + 1\n",
        "print(\"Total number of words: \", total_words)"
      ],
      "metadata": {
        "id": "fRtwsuIZp-ga",
        "colab": {
          "base_uri": "https://localhost:8080/"
        },
        "outputId": "7ceb0708-3b49-4a18-fff0-a4a77648c10e"
      },
      "execution_count": 34,
      "outputs": [
        {
          "output_type": "stream",
          "name": "stdout",
          "text": [
            "Total number of words:  469\n"
          ]
        }
      ]
    },
    {
      "cell_type": "code",
      "source": [
        "# Create input sequences\n",
        "input_sequences = []\n",
        "for line in songs['Lyrics']:\n",
        "    token_list = tokenizer.texts_to_sequences([line])[0]\n",
        "    for i in range(1, len(token_list)):\n",
        "        n_gram_sequence = token_list[:i+1]\n",
        "        input_sequences.append(n_gram_sequence)\n",
        "# Pad sequences\n",
        "max_sequence_len = max([len(seq) for seq in input_sequences])\n",
        "input_sequences = np.array(pad_sequences(\n",
        "    input_sequences, maxlen=max_sequence_len, padding='pre'))\n",
        "# create features and label\n",
        "X, y = input_sequences[:, :-1], input_sequences[:, -1]\n",
        "\n",
        "# Convert target data to one-hot encoding\n",
        "y = tf.keras.utils.to_categorical(y, num_classes=total_words)"
      ],
      "metadata": {
        "id": "YD1ZerreQlfm"
      },
      "execution_count": 35,
      "outputs": []
    },
    {
      "cell_type": "code",
      "source": [
        "model = Sequential()\n",
        "model.add(Embedding(total_words, 10,\n",
        "                    input_length=max_sequence_len-1))\n",
        "model.add(LSTM(128))\n",
        "model.add(Dense(total_words, activation='softmax'))\n",
        "adam = Adam(learning_rate=0.01)\n",
        "model.compile(loss='categorical_crossentropy',\n",
        "              optimizer='adam', metrics=['accuracy'])"
      ],
      "metadata": {
        "id": "-gGe7HpfruSh"
      },
      "execution_count": 39,
      "outputs": []
    },
    {
      "cell_type": "code",
      "source": [
        "his = model.fit(X, y, epochs=50, verbose=1)"
      ],
      "metadata": {
        "colab": {
          "base_uri": "https://localhost:8080/"
        },
        "id": "uCFIh5LtqD7E",
        "outputId": "1af62076-d82c-4042-b8ed-47b015151c2e"
      },
      "execution_count": 40,
      "outputs": [
        {
          "output_type": "stream",
          "name": "stdout",
          "text": [
            "Epoch 1/50\n",
            "92/92 [==============================] - 67s 698ms/step - loss: 5.6529 - accuracy: 0.0391\n",
            "Epoch 2/50\n",
            "92/92 [==============================] - 66s 716ms/step - loss: 5.3662 - accuracy: 0.0435\n",
            "Epoch 3/50\n",
            "92/92 [==============================] - 64s 698ms/step - loss: 5.3354 - accuracy: 0.0405\n",
            "Epoch 4/50\n",
            "92/92 [==============================] - 63s 688ms/step - loss: 5.3616 - accuracy: 0.0418\n",
            "Epoch 5/50\n",
            "92/92 [==============================] - 64s 693ms/step - loss: 5.1897 - accuracy: 0.0445\n",
            "Epoch 6/50\n",
            "92/92 [==============================] - 67s 731ms/step - loss: 5.0267 - accuracy: 0.0500\n",
            "Epoch 7/50\n",
            "92/92 [==============================] - 63s 684ms/step - loss: 4.8557 - accuracy: 0.0639\n",
            "Epoch 8/50\n",
            "92/92 [==============================] - 64s 701ms/step - loss: 4.6496 - accuracy: 0.0847\n",
            "Epoch 9/50\n",
            "92/92 [==============================] - 63s 690ms/step - loss: 4.4319 - accuracy: 0.1183\n",
            "Epoch 10/50\n",
            "92/92 [==============================] - 64s 687ms/step - loss: 4.2029 - accuracy: 0.1384\n",
            "Epoch 11/50\n",
            "92/92 [==============================] - 67s 730ms/step - loss: 3.9655 - accuracy: 0.1782\n",
            "Epoch 12/50\n",
            "92/92 [==============================] - 62s 678ms/step - loss: 3.7347 - accuracy: 0.2125\n",
            "Epoch 13/50\n",
            "92/92 [==============================] - 64s 692ms/step - loss: 3.5260 - accuracy: 0.2554\n",
            "Epoch 14/50\n",
            "92/92 [==============================] - 64s 695ms/step - loss: 3.3223 - accuracy: 0.2979\n",
            "Epoch 15/50\n",
            "92/92 [==============================] - 66s 709ms/step - loss: 3.1306 - accuracy: 0.3271\n",
            "Epoch 16/50\n",
            "92/92 [==============================] - 64s 697ms/step - loss: 2.9464 - accuracy: 0.3757\n",
            "Epoch 17/50\n",
            "92/92 [==============================] - 62s 679ms/step - loss: 2.7732 - accuracy: 0.4175\n",
            "Epoch 18/50\n",
            "92/92 [==============================] - 65s 699ms/step - loss: 2.6031 - accuracy: 0.4577\n",
            "Epoch 19/50\n",
            "92/92 [==============================] - 65s 704ms/step - loss: 2.4495 - accuracy: 0.4930\n",
            "Epoch 20/50\n",
            "92/92 [==============================] - 60s 648ms/step - loss: 2.3183 - accuracy: 0.5223\n",
            "Epoch 21/50\n",
            "92/92 [==============================] - 60s 650ms/step - loss: 2.2029 - accuracy: 0.5525\n",
            "Epoch 22/50\n",
            "92/92 [==============================] - 61s 669ms/step - loss: 2.0566 - accuracy: 0.5780\n",
            "Epoch 23/50\n",
            "92/92 [==============================] - 60s 656ms/step - loss: 1.9402 - accuracy: 0.6076\n",
            "Epoch 24/50\n",
            "92/92 [==============================] - 65s 704ms/step - loss: 1.8167 - accuracy: 0.6345\n",
            "Epoch 25/50\n",
            "92/92 [==============================] - 60s 655ms/step - loss: 1.7153 - accuracy: 0.6569\n",
            "Epoch 26/50\n",
            "92/92 [==============================] - 62s 676ms/step - loss: 1.6077 - accuracy: 0.6916\n",
            "Epoch 27/50\n",
            "92/92 [==============================] - 60s 655ms/step - loss: 1.5137 - accuracy: 0.7008\n",
            "Epoch 28/50\n",
            "92/92 [==============================] - 62s 676ms/step - loss: 1.4268 - accuracy: 0.7310\n",
            "Epoch 29/50\n",
            "92/92 [==============================] - 62s 666ms/step - loss: 1.3421 - accuracy: 0.7501\n",
            "Epoch 30/50\n",
            "92/92 [==============================] - 64s 701ms/step - loss: 1.2631 - accuracy: 0.7678\n",
            "Epoch 31/50\n",
            "92/92 [==============================] - 60s 649ms/step - loss: 1.1871 - accuracy: 0.7878\n",
            "Epoch 32/50\n",
            "92/92 [==============================] - 60s 656ms/step - loss: 1.1117 - accuracy: 0.8072\n",
            "Epoch 33/50\n",
            "92/92 [==============================] - 62s 668ms/step - loss: 1.0503 - accuracy: 0.8164\n",
            "Epoch 34/50\n",
            "92/92 [==============================] - 60s 652ms/step - loss: 0.9894 - accuracy: 0.8331\n",
            "Epoch 35/50\n",
            "92/92 [==============================] - 61s 669ms/step - loss: 0.9255 - accuracy: 0.8497\n",
            "Epoch 36/50\n",
            "92/92 [==============================] - 63s 686ms/step - loss: 0.8731 - accuracy: 0.8609\n",
            "Epoch 37/50\n",
            "92/92 [==============================] - 62s 670ms/step - loss: 0.8216 - accuracy: 0.8657\n",
            "Epoch 38/50\n",
            "92/92 [==============================] - 60s 651ms/step - loss: 0.9139 - accuracy: 0.8446\n",
            "Epoch 39/50\n",
            "92/92 [==============================] - 61s 669ms/step - loss: 0.8532 - accuracy: 0.8548\n",
            "Epoch 40/50\n",
            "92/92 [==============================] - 63s 681ms/step - loss: 0.7588 - accuracy: 0.8776\n",
            "Epoch 41/50\n",
            "92/92 [==============================] - 63s 691ms/step - loss: 0.8587 - accuracy: 0.8456\n",
            "Epoch 42/50\n",
            "92/92 [==============================] - 66s 714ms/step - loss: 0.7198 - accuracy: 0.8796\n",
            "Epoch 43/50\n",
            "92/92 [==============================] - 65s 702ms/step - loss: 0.6817 - accuracy: 0.8926\n",
            "Epoch 44/50\n",
            "92/92 [==============================] - 63s 689ms/step - loss: 0.6255 - accuracy: 0.9045\n",
            "Epoch 45/50\n",
            "92/92 [==============================] - 60s 656ms/step - loss: 0.5829 - accuracy: 0.9123\n",
            "Epoch 46/50\n",
            "92/92 [==============================] - 62s 676ms/step - loss: 0.5504 - accuracy: 0.9208\n",
            "Epoch 47/50\n",
            "92/92 [==============================] - 64s 688ms/step - loss: 0.5297 - accuracy: 0.9249\n",
            "Epoch 48/50\n",
            "92/92 [==============================] - 60s 654ms/step - loss: 0.5007 - accuracy: 0.9300\n",
            "Epoch 49/50\n",
            "92/92 [==============================] - 60s 657ms/step - loss: 0.4690 - accuracy: 0.9391\n",
            "Epoch 50/50\n",
            "92/92 [==============================] - 59s 646ms/step - loss: 0.4478 - accuracy: 0.9388\n"
          ]
        }
      ]
    },
    {
      "cell_type": "code",
      "source": [
        "import matplotlib.pyplot as plt"
      ],
      "metadata": {
        "id": "iRdwFEO71cbd"
      },
      "execution_count": 41,
      "outputs": []
    },
    {
      "cell_type": "code",
      "source": [
        "plt.plot(his.history['loss'])\n",
        "plt.title('Model loss')\n",
        "plt.ylabel('Loss')\n",
        "plt.xlabel('Epoch')\n",
        "plt.legend(['Train'], loc='upper left')\n",
        "plt.show()\n",
        "\n",
        "plt.plot(his.history['accuracy'])\n",
        "plt.title('Model accuracy')\n",
        "plt.ylabel('Accuracy')\n",
        "plt.xlabel('Epoch')\n",
        "plt.legend(['Train'], loc='upper left')\n",
        "plt.show()"
      ],
      "metadata": {
        "colab": {
          "base_uri": "https://localhost:8080/",
          "height": 927
        },
        "id": "yMuulVw33b84",
        "outputId": "3683aaad-efac-4c0a-8768-004b2e67bf5b"
      },
      "execution_count": 42,
      "outputs": [
        {
          "output_type": "display_data",
          "data": {
            "text/plain": [
              "<Figure size 640x480 with 1 Axes>"
            ],
            "image/png": "[encoded data removed]"
          },
          "metadata": {}
        },
        {
          "output_type": "display_data",
          "data": {
            "text/plain": [
              "<Figure size 640x480 with 1 Axes>"
            ],
            "image/png": "[encoded data removed]"
          },
          "metadata": {}
        }
      ]
    },
    {
      "cell_type": "code",
      "source": [
        "seed_text = \"Up all night on my mind got me thinking \"\n",
        "next_words = 8\n",
        "\n",
        "for _ in range(next_words):\n",
        "    token_list = tokenizer.texts_to_sequences([seed_text])[0]\n",
        "    token_list = pad_sequences(\n",
        "        [token_list], maxlen=max_sequence_len-1, padding='pre')\n",
        "    predicted_probs = model.predict(token_list)\n",
        "    predicted_word = tokenizer.index_word[np.argmax(predicted_probs)]\n",
        "    seed_text += \" \" + predicted_word\n",
        "\n",
        "print(\"Next predicted words:\", seed_text)"
      ],
      "metadata": {
        "colab": {
          "base_uri": "https://localhost:8080/"
        },
        "id": "DOKpqpOo7pmk",
        "outputId": "1f0a935a-a9cf-43e9-b38a-d3ac0d36d4e3"
      },
      "execution_count": 44,
      "outputs": [
        {
          "output_type": "stream",
          "name": "stdout",
          "text": [
            "1/1 [==============================] - 0s 198ms/step\n",
            "1/1 [==============================] - 0s 149ms/step\n",
            "1/1 [==============================] - 0s 153ms/step\n",
            "1/1 [==============================] - 0s 209ms/step\n",
            "1/1 [==============================] - 0s 159ms/step\n",
            "1/1 [==============================] - 0s 97ms/step\n",
            "1/1 [==============================] - 0s 100ms/step\n",
            "1/1 [==============================] - 0s 104ms/step\n",
            "Next predicted words: Up all night on my mind got me thinking  the own phone is quiet walls town bare\n"
          ]
        }
      ]
    }
  ]
}