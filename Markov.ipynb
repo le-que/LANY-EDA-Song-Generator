{
  "nbformat": 4,
  "nbformat_minor": 0,
  "metadata": {
    "colab": {
      "provenance": []
    },
    "kernelspec": {
      "name": "python3",
      "display_name": "Python 3"
    },
    "language_info": {
      "name": "python"
    }
  },
  "cells": [
    {
      "cell_type": "code",
      "execution_count": 155,
      "metadata": {
        "id": "YH-M6yo6s14l"
      },
      "outputs": [],
      "source": [
        "import io\n",
        "import numpy as np\n",
        "import pandas as pd\n",
        "import re"
      ]
    },
    {
      "cell_type": "code",
      "source": [
        "songs = pd.read_csv('/content/lyrics.csv' , usecols=['Album','Song','Lyrics','views'])"
      ],
      "metadata": {
        "id": "mTomFw69teUu"
      },
      "execution_count": 156,
      "outputs": []
    },
    {
      "cell_type": "code",
      "source": [
        "songs['Lyrics'] = songs['Lyrics'].apply(lambda x: re.sub(r'\\[([^]]*)]','',x))\n",
        "songs['Lyrics'] = songs['Lyrics'].apply(lambda x: x.split('\\r\\n'))"
      ],
      "metadata": {
        "id": "A7m_E1RwuyOX"
      },
      "execution_count": 157,
      "outputs": []
    },
    {
      "cell_type": "code",
      "source": [
        "df = songs.copy()\n",
        "df = pd.DataFrame(df['Lyrics'])"
      ],
      "metadata": {
        "id": "KvVdyfFExYXk"
      },
      "execution_count": 158,
      "outputs": []
    },
    {
      "cell_type": "code",
      "source": [
        "df = (df['Lyrics'].str.join(' '))"
      ],
      "metadata": {
        "id": "xgpTNzHUzRVC"
      },
      "execution_count": 159,
      "outputs": []
    },
    {
      "cell_type": "code",
      "source": [
        "for i in range(df.shape[0]):\n",
        "  df[i] = df[i].lower()"
      ],
      "metadata": {
        "id": "QOfw33lR2PuJ"
      },
      "execution_count": 160,
      "outputs": []
    },
    {
      "cell_type": "code",
      "source": [
        "import re\n",
        "import random\n",
        "from collections import defaultdict\n",
        "\n",
        "\n",
        "class Markov:\n",
        "    def __init__(self, corpus='', order=2, length=8):\n",
        "        self.order = order\n",
        "        self.length = length\n",
        "        self.states = defaultdict(list)\n",
        "        self.words = re.findall(\"[a-z']+\", corpus)\n",
        "\n",
        "        for i in range(len(self.words) - self.order):\n",
        "            state = tuple(self.words[i:i + self.order])\n",
        "            next_word = self.words[i + order]\n",
        "            self.states[state].append(next_word)\n",
        "\n",
        "    def gen_sentence(self, length=8, startswith=None):\n",
        "        terms = None\n",
        "\n",
        "        if startswith:\n",
        "            start_seed = [x for x in self.states.keys() if startswith in x]\n",
        "            if start_seed:\n",
        "                terms = list(start_seed[0])\n",
        "\n",
        "        if terms is None:\n",
        "            start_seed = random.randint(0, len(self.words) - self.order)\n",
        "            terms = self.words[start_seed:start_seed + self.order]\n",
        "\n",
        "        for _ in range(length):\n",
        "            next_word = random.choice(self.states[tuple(terms[-self.order:])])\n",
        "            terms.append(next_word)\n",
        "\n",
        "        return ' '.join(terms)\n",
        "\n",
        "    def gen_song(self, lines=10, length=8, length_range=None, startswith=None):\n",
        "        song = []\n",
        "        if startswith:\n",
        "          sentence = self.gen_sentence(length=length, startswith=startswith)\n",
        "          song.append(sentence)\n",
        "          lines -= 1\n",
        "        for _ in range(lines):\n",
        "          sent_len = random.randint(*length_range) if length_range else length\n",
        "          song.append(self.gen_sentence(length=sent_len))\n",
        "        return ' \\n '.join(song)"
      ],
      "metadata": {
        "id": "7NMMPdsUwRxk"
      },
      "execution_count": 174,
      "outputs": []
    },
    {
      "cell_type": "code",
      "source": [
        "generate_property = Markov(corpus= ' '.join(df))\n",
        "generate_property.gen_song(lines=5, length_range=[5, 15])"
      ],
      "metadata": {
        "colab": {
          "base_uri": "https://localhost:8080/",
          "height": 71
        },
        "id": "7Yt6Gxavw8Mp",
        "outputId": "6898f3a6-4dea-465b-989d-0ee4ef7ebd4e"
      },
      "execution_count": 175,
      "outputs": [
        {
          "output_type": "execute_result",
          "data": {
            "text/plain": [
              "\"time you realized you're the only way to get past this feeling is to tell when everything \\n don't know with who i'm sorry i get jealous or if i got \\n no more no more be right back i'm gonna go can't take it back is it \\n do is let you in the midst of your insecure winds breakin' us down \\n your mind i can't promise you that i'll be next week or we could\""
            ],
            "application/vnd.google.colaboratory.intrinsic+json": {
              "type": "string"
            }
          },
          "metadata": {},
          "execution_count": 175
        }
      ]
    },
    {
      "cell_type": "code",
      "source": [
        "generate_property.gen_song(lines=5, length_range=[5, 15], startswith='love you')"
      ],
      "metadata": {
        "colab": {
          "base_uri": "https://localhost:8080/",
          "height": 53
        },
        "id": "Uu7Jwb6y4GNk",
        "outputId": "887a077e-7d9b-43b2-fbd1-bff2639f148b"
      },
      "execution_count": 176,
      "outputs": [
        {
          "output_type": "execute_result",
          "data": {
            "text/plain": [
              "\"need her i know you're out the door every time \\n your loss i really mean it and whatever we \\n voice sorry for the nights when i kiss your lips i hope you always regret and i \\n it in 'cause i've been on the line \\n the bone but sometimes you just tell me where we should talk about\""
            ],
            "application/vnd.google.colaboratory.intrinsic+json": {
              "type": "string"
            }
          },
          "metadata": {},
          "execution_count": 176
        }
      ]
    }
  ]
}